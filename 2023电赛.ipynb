{
 "cells": [
  {
   "cell_type": "code",
   "execution_count": 126,
   "metadata": {},
   "outputs": [],
   "source": [
    "import cv2\n",
    "import numpy as np"
   ]
  },
  {
   "cell_type": "markdown",
   "metadata": {},
   "source": [
    "1. 将图像只保留红色通道。"
   ]
  },
  {
   "cell_type": "code",
   "execution_count": 127,
   "metadata": {},
   "outputs": [],
   "source": [
    "# 读取图像\n",
    "image = cv2.imread('D:\\\\1.jpg')\n",
    "\n",
    "# 分离通道\n",
    "b, g, r = cv2.split(image)\n",
    "\n",
    "# 只保留红色通道，将绿色和蓝色通道设置为0\n",
    "zeros = np.zeros_like(r)\n",
    "red_only = cv2.merge([zeros, zeros, r])\n",
    "\n",
    "# 转换为灰度图像\n",
    "gray = cv2.cvtColor(red_only, cv2.COLOR_BGR2GRAY)\n"
   ]
  },
  {
   "cell_type": "markdown",
   "metadata": {},
   "source": [
    "2. 将灰度值足够大的提取出来，并去除噪点（当前方法的前提是激光点远大于噪点）。"
   ]
  },
  {
   "cell_type": "code",
   "execution_count": 128,
   "metadata": {},
   "outputs": [],
   "source": [
    "# 应用阈值\n",
    "_, binary = cv2.threshold(gray, 60, 255, cv2.THRESH_BINARY)\n",
    "\n",
    "# 定义腐蚀核的大小和形状\n",
    "kernel = np.ones((10, 10), np.uint8)  # 可以根据需要调整核的大小和形状\n",
    "# 进行腐蚀操作\n",
    "binary_eroded = cv2.erode(binary, kernel, iterations=2)\n",
    "\n",
    "image1 = cv2.resize(gray,(500,500))\n",
    "image2 = cv2.resize(binary_eroded,(500,500))\n",
    "horizontal_concat = cv2.hconcat([image1, image2])\n",
    "cv2.imshow('binary', horizontal_concat)\n",
    "cv2.waitKey(0)\n",
    "cv2.destroyAllWindows()"
   ]
  },
  {
   "cell_type": "markdown",
   "metadata": {},
   "source": [
    "3. 根据轮廓面积和形状判断。"
   ]
  },
  {
   "cell_type": "code",
   "execution_count": 132,
   "metadata": {},
   "outputs": [
    {
     "name": "stdout",
     "output_type": "stream",
     "text": [
      "1 0.1315865831607053\n",
      "1 0.7109611129652225\n",
      "1 0.18435948603951705\n",
      "1 0.3361954911131761\n"
     ]
    }
   ],
   "source": [
    "def is_circle_like(contour, threshold=0.7):\n",
    "    area = cv2.contourArea(contour)\n",
    "    ((x, y), radius) = cv2.minEnclosingCircle(contour)\n",
    "    circle_area = np.pi * (radius ** 2)\n",
    "    \n",
    "    # 比较轮廓面积和外接圆面积\n",
    "    print(\"1\",area / circle_area)\n",
    "    return area / circle_area > threshold\n",
    "\n",
    "# 查找轮廓\n",
    "contours, _ = cv2.findContours(binary, cv2.RETR_TREE, cv2.CHAIN_APPROX_SIMPLE)\n",
    "# cv2.drawContours(image, contours, -1, (255, 255, 255), 2)\n",
    "\n",
    "# 绘制轮廓\n",
    "for cnt in contours:\n",
    "    # 计算轮廓的面积\n",
    "    area = cv2.contourArea(cnt)\n",
    "    \n",
    "    # 过滤掉小面积的轮廓，并检查是否接近圆形\n",
    "    if 50 < area and is_circle_like(cnt):\n",
    "        # 绘制轮廓\n",
    "        x, y, w, h = cv2.boundingRect(cnt)\n",
    "        cv2.rectangle(image, (x, y), (x + w, y + h), (0, 255, 0), 2)\n",
    "        cv2.putText(image, 'G', (x, y - 10), cv2.FONT_HERSHEY_SIMPLEX, 0.9, (0, 255, 0), 10)\n",
    "\n",
    "# 显示结果图像\n",
    "cv2.imshow('Detected Laser', image)\n",
    "cv2.waitKey(0)\n",
    "cv2.destroyAllWindows()\n"
   ]
  }
 ],
 "metadata": {
  "kernelspec": {
   "display_name": "base",
   "language": "python",
   "name": "python3"
  },
  "language_info": {
   "codemirror_mode": {
    "name": "ipython",
    "version": 3
   },
   "file_extension": ".py",
   "mimetype": "text/x-python",
   "name": "python",
   "nbconvert_exporter": "python",
   "pygments_lexer": "ipython3",
   "version": "3.11.5"
  }
 },
 "nbformat": 4,
 "nbformat_minor": 2
}
